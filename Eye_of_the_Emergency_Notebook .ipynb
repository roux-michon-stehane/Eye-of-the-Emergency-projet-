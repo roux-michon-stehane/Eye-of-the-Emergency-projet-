{
 "cells": [
  {
   "cell_type": "markdown",
   "id": "07637391",
   "metadata": {},
   "source": [
    "# Eye of the Emergency"
   ]
  },
  {
   "cell_type": "markdown",
   "id": "04338b16",
   "metadata": {},
   "source": [
    "Les plateformes de médias sociaux sont aujourd’hui devenues une partie intégrante de\n",
    "nos vies, nous fournissant des informations en temps réel sur les événements qui se\n",
    "produisent autour de nous. Toutefois, cet essor s'est accompagné d'une augmentation\n",
    "de la désinformation et des \"fake news\". En cas de catastrophe ou de crise, ces fausses\n",
    "informations peuvent être particulièrement dangereuses, car elles peuvent entraver les\n",
    "efforts d'intervention d'urgence et provoquer la panique au sein de la population."
   ]
  }
 ],
 "metadata": {
  "kernelspec": {
   "display_name": "Python 3 (ipykernel)",
   "language": "python",
   "name": "python3"
  },
  "language_info": {
   "codemirror_mode": {
    "name": "ipython",
    "version": 3
   },
   "file_extension": ".py",
   "mimetype": "text/x-python",
   "name": "python",
   "nbconvert_exporter": "python",
   "pygments_lexer": "ipython3",
   "version": "3.9.13"
  }
 },
 "nbformat": 4,
 "nbformat_minor": 5
}
